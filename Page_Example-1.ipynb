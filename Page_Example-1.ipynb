{
 "cells": [
  {
   "cell_type": "code",
   "execution_count": null,
   "metadata": {},
   "outputs": [],
   "source": [
    "<!DOCTYPE html>\n",
    "<html lang=\"es\">\n",
    "<head>\n",
    "    <meta charset=\"UTF-8\">\n",
    "    <meta name=\"viewport\" content=\"width=device-width, initial-scale=1.0\">\n",
    "    <title>Mi Página Web</title>\n",
    "    <style>\n",
    "        body {\n",
    "            font-family: Arial, sans-serif;\n",
    "            background-color: #f4f4f4;\n",
    "            margin: 0;\n",
    "            padding: 0;\n",
    "        }\n",
    "        header {\n",
    "            background-color: #333;\n",
    "            color: white;\n",
    "            padding: 10px 0;\n",
    "            text-align: center;\n",
    "        }\n",
    "        .content {\n",
    "            padding: 20px;\n",
    "        }\n",
    "    </style>\n",
    "</head>\n",
    "<body>\n",
    "\n",
    "<header>\n",
    "    <h1>Bienvenidos a mi página web</h1>\n",
    "</header>\n",
    "\n",
    "<div class=\"content\">\n",
    "    <p>¡Este es mi primer sitio web! Estoy aprendiendo a programar y crear páginas.</p>\n",
    "</div>\n",
    "\n",
    "</body>\n",
    "</html>\n"
   ]
  }
 ],
 "metadata": {
  "kernelspec": {
   "display_name": "Python 3",
   "language": "python",
   "name": "python3"
  },
  "language_info": {
   "name": "python",
   "version": "3.13.2"
  }
 },
 "nbformat": 4,
 "nbformat_minor": 2
}
